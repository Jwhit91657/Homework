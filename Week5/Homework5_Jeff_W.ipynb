{
 "cells": [
  {
   "cell_type": "markdown",
   "metadata": {},
   "source": [
    "Use markdown formatting for the following questions (e.g., bold lettering, bullet points, different font sizes, etc.):\n",
    "\n",
    "1. What does Pandas stand for?\n",
    " - Panel data or Python Data Analysis\n",
    "\n",
    "2. What are the 2 collections used in Pandas?\n",
    " - Series and Dataframe\n",
    "\n",
    "3. Name 4 things Pandas can do for us.\n",
    " - Data cleansing, data normalization, data visualization, data fill, data inspection, merges and joins, statistical analysis, loading and saving data. \n",
    "\n",
    "4. To permanently sort a DataFrame, which keyword should one use with the df.sort() method?\n",
    "- Values\n",
    "\n",
    "5. What is a CSV?\n",
    " - comman separated files (values).\n",
    "\n",
    "6. When cleaning data what values do we not like in our data?\n",
    " - you do not want missing values, duplicate records, outliers, inconsistent or incorrect data, data type mismatches, data integrity issues, encoding problems, inconsisten data/time formats, whitespace and formatting issues, scale differences, categorical variable issues, and data entry errors"
   ]
  },
  {
   "cell_type": "markdown",
   "metadata": {},
   "source": []
  }
 ],
 "metadata": {
  "language_info": {
   "name": "python"
  }
 },
 "nbformat": 4,
 "nbformat_minor": 2
}
