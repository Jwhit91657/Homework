{
 "cells": [
  {
   "cell_type": "markdown",
   "metadata": {},
   "source": [
    "Use markdown formatting for the following questions (e.g., bold lettering, bullet points, different font sizes, etc.):\n",
    "\n",
    "1. What does Pandas stand for?\n",
    " - Panel data or Python Data Analysis\n",
    "\n",
    "2. What are the 2 collections used in Pandas?\n",
    " - Series and Dataframe\n",
    "\n",
    "3. Name 4 things Pandas can do for us.\n",
    " - Data cleansing, data normalization, data visualization, data fill, data inspection, merges and joins, statistical analysis, loading and saving data. \n",
    "\n",
    "4. To permanently sort a DataFrame, which keyword should one use with the df.sort() method?\n",
    "- inplace =  True\n",
    "\n",
    "5. What is a CSV?\n",
    " - comman separated files (values).\n",
    "\n",
    "6. When cleaning data what values do we not like in our data?\n",
    " - you do not want missing values, duplicate records, outliers, inconsistent or incorrect data, data type mismatches, data integrity issues, encoding problems, inconsisten data/time formats, whitespace and formatting issues, scale differences, categorical variable issues, and data entry errors"
   ]
  },
  {
   "cell_type": "markdown",
   "metadata": {},
   "source": []
  },
  {
   "cell_type": "markdown",
   "metadata": {},
   "source": [
    "7. Import NumPy, use one of the NumPy methods and create an array with a shape of (2, 3, 2). You can use the reshape method -- .reshape()"
   ]
  },
  {
   "cell_type": "code",
   "execution_count": 43,
   "metadata": {},
   "outputs": [
    {
     "name": "stdout",
     "output_type": "stream",
     "text": [
      "[[[ 0  1]\n",
      "  [ 2  3]\n",
      "  [ 4  5]]\n",
      "\n",
      " [[ 6  7]\n",
      "  [ 8  9]\n",
      "  [10 11]]]\n",
      "[[[ 0  1]\n",
      "  [ 2  3]\n",
      "  [ 4  5]]\n",
      "\n",
      " [[ 6  7]\n",
      "  [ 8  9]\n",
      "  [10 11]]]\n"
     ]
    }
   ],
   "source": [
    "import numpy as np\n",
    "\n",
    "\n",
    "reshapedArray = np.arange(12, dtype = int).reshape(2, 3, 2)\n",
    "\n",
    "print(reshapedArray)\n",
    "\n",
    "\n",
    "\n"
   ]
  },
  {
   "cell_type": "markdown",
   "metadata": {},
   "source": [
    "8. Use NumPy .linspace() to create an array with 6 linearly spaced values between 0 and 20"
   ]
  },
  {
   "cell_type": "code",
   "execution_count": 3,
   "metadata": {},
   "outputs": [
    {
     "name": "stdout",
     "output_type": "stream",
     "text": [
      "[ 0.  4.  8. 12. 16. 20.]\n"
     ]
    }
   ],
   "source": [
    "array = np.linspace(0, 20, 6)\n",
    "\n",
    "print(array)"
   ]
  },
  {
   "cell_type": "markdown",
   "metadata": {},
   "source": [
    "9. Make a Deep Copy of the above array"
   ]
  },
  {
   "cell_type": "code",
   "execution_count": 4,
   "metadata": {},
   "outputs": [
    {
     "name": "stdout",
     "output_type": "stream",
     "text": [
      "[ 0.  4.  8. 12. 16. 20.]\n"
     ]
    }
   ],
   "source": [
    "deep_copy_array = array.copy()\n",
    "\n",
    "print(deep_copy_array)"
   ]
  },
  {
   "cell_type": "markdown",
   "metadata": {},
   "source": [
    "10. Concatenate these 3 arrays into a new array named 'newArray'...\n",
    "        \n",
    "        ([[25, 16]])\n",
    "        ([[11, 2], [13, 4]])\n",
    "        ([[7, 81], [5, 6], [11, 12]])"
   ]
  },
  {
   "cell_type": "code",
   "execution_count": 9,
   "metadata": {},
   "outputs": [
    {
     "name": "stdout",
     "output_type": "stream",
     "text": [
      "[[25 16]\n",
      " [11  2]\n",
      " [13  4]\n",
      " [ 7 81]\n",
      " [ 5  6]\n",
      " [11 12]]\n"
     ]
    }
   ],
   "source": [
    "array1 = np.array([[25, 16]])\n",
    "array2 = np.array([[11, 2], [13, 4]])\n",
    "array3 = np.array([[7, 81], [5, 6], [11, 12]])\n",
    "\n",
    "newArray = np.concatenate((array1, array2, array3), axis = 0)\n",
    "\n",
    "print(newArray)"
   ]
  },
  {
   "cell_type": "markdown",
   "metadata": {},
   "source": [
    "11. Sort 'newArray' in order into 'sortedArray'"
   ]
  },
  {
   "cell_type": "code",
   "execution_count": 13,
   "metadata": {},
   "outputs": [
    {
     "name": "stdout",
     "output_type": "stream",
     "text": [
      "[[ 2  6]\n",
      " [ 4 11]\n",
      " [ 5 12]\n",
      " [ 7 13]\n",
      " [11 25]\n",
      " [16 81]]\n"
     ]
    }
   ],
   "source": [
    "sortedArray = np.sort(newArray, axis = 0)\n",
    "\n",
    "print(np.sort(sortedArray, axis = 0))"
   ]
  },
  {
   "cell_type": "markdown",
   "metadata": {},
   "source": [
    "12. Unpack the array tuples from the above 'reshapedArray' into 4 well named variables. Print the 4 variables."
   ]
  },
  {
   "cell_type": "code",
   "execution_count": 67,
   "metadata": {},
   "outputs": [
    {
     "name": "stdout",
     "output_type": "stream",
     "text": [
      "[0 1 2]\n",
      "[3 4 5]\n",
      "[6 7 8]\n",
      "[ 9 10 11]\n"
     ]
    }
   ],
   "source": [
    "\n",
    "arr_reshape = reshapedArray.reshape(4,3)\n",
    "\n",
    "one, two, three, four = arr_reshape\n",
    "\n",
    "print(one)\n",
    "print(two)\n",
    "print(three) \n",
    "print(four)"
   ]
  },
  {
   "cell_type": "markdown",
   "metadata": {},
   "source": [
    "13. Combined and sort the following arrays into one called 'comboArray' ...\n",
    "\n",
    "- one = ([10, 11, 12, 13, 14, 15, 16, 17])\n",
    "- two = ([20, 21, 22, 23, 24, 25, 26, 27])\n",
    "- three = ([ 0, 1, 2, 3, 4, 5, 6, 7])"
   ]
  },
  {
   "cell_type": "code",
   "execution_count": 87,
   "metadata": {},
   "outputs": [
    {
     "name": "stdout",
     "output_type": "stream",
     "text": [
      "[ 0  1  2  3  4  5  6  7 10 11 12 13 14 15 16 17 20 21 22 23 24 25 26 27]\n"
     ]
    }
   ],
   "source": [
    "one = ([10, 11, 12, 13, 14, 15, 16, 17])\n",
    "two = ([20, 21, 22, 23, 24, 25, 26, 27])\n",
    "three = ([ 0, 1, 2, 3, 4, 5, 6, 7])\n",
    "\n",
    "ComboArray = np.concatenate((one, two, three))\n",
    "ComboArray = np.sort(ComboArray)\n",
    "\n",
    "print(ComboArray)\n"
   ]
  },
  {
   "cell_type": "markdown",
   "metadata": {},
   "source": [
    "14. Take 'comboArray' and perform the following slicing activities:\n",
    "\n",
    "- print sec1 - the 2nd element\n",
    "- print sec2 - all elements from the 3rd element to the last\n",
    "- print sec3 - all elements from the 4th to the 14th elements\n",
    "- print sec4 - the last 6 elements\n",
    "- print sec5 - all element from #0 up to and including #15, using the negative number method, i.e. taking a section from the end.\n",
    "- print sec6 - from #20 every even element to the end\n",
    "- print sec7 - from the last element moving forward, every 5th element."
   ]
  },
  {
   "cell_type": "code",
   "execution_count": 94,
   "metadata": {},
   "outputs": [
    {
     "name": "stdout",
     "output_type": "stream",
     "text": [
      "this is the second element 1\n",
      "all elements from third to last [ 2  3  4  5  6  7 10 11 12 13 14 15 16 17 20 21 22 23 24 25 26 27]\n",
      "all elements from the 4th to the 14th [ 3  4  5  6  7 10 11 12 13 14 15 16]\n",
      "the last 6 elements [22 23 24 25 26 27]\n",
      "all elements from 0 up to and including 15, using the negative number method [ 0  1  2  3  4  5  6  7 10 11 12 13 14 15]\n",
      "from #20 every even element to the end [20 21 22 23 24 25 26 27]\n",
      "from last element moving forwared every 5th element [27 22 15 10  3]\n"
     ]
    }
   ],
   "source": [
    "print(\"this is the second element\", ComboArray[1])\n",
    "print(\"all elements from third to last\", ComboArray[2:])\n",
    "print(\"all elements from the 4th to the 14th\", ComboArray[3:15])\n",
    "print(\"the last 6 elements\", ComboArray[-6:])\n",
    "print(\"all elements from 0 up to and including 15, using the negative number method\", ComboArray[-28:-10])\n",
    "print(\"from #20 every even element to the end\", ComboArray[16:])\n",
    "print(\"from last element moving forwared every 5th element\", ComboArray[-1::-5])"
   ]
  },
  {
   "cell_type": "markdown",
   "metadata": {},
   "source": [
    "15. Using Series, create a DataFrame that looks like this:\n",
    "\n",
    "- Ingredients\tQuantity\tUnit\n",
    "- Flour\t4\tcups\n",
    "- Milk\t1\tcup\n",
    "- Eggs\t2\tlarge\n",
    "- Spam\t1\tcan"
   ]
  },
  {
   "cell_type": "code",
   "execution_count": 101,
   "metadata": {},
   "outputs": [
    {
     "data": {
      "text/html": [
       "<div>\n",
       "<style scoped>\n",
       "    .dataframe tbody tr th:only-of-type {\n",
       "        vertical-align: middle;\n",
       "    }\n",
       "\n",
       "    .dataframe tbody tr th {\n",
       "        vertical-align: top;\n",
       "    }\n",
       "\n",
       "    .dataframe thead th {\n",
       "        text-align: right;\n",
       "    }\n",
       "</style>\n",
       "<table border=\"1\" class=\"dataframe\">\n",
       "  <thead>\n",
       "    <tr style=\"text-align: right;\">\n",
       "      <th></th>\n",
       "      <th>ingredients</th>\n",
       "      <th>Quantity</th>\n",
       "      <th>Unit</th>\n",
       "    </tr>\n",
       "  </thead>\n",
       "  <tbody>\n",
       "    <tr>\n",
       "      <th>0</th>\n",
       "      <td>Flour</td>\n",
       "      <td>4</td>\n",
       "      <td>cups</td>\n",
       "    </tr>\n",
       "    <tr>\n",
       "      <th>1</th>\n",
       "      <td>Milk</td>\n",
       "      <td>1</td>\n",
       "      <td>cup</td>\n",
       "    </tr>\n",
       "    <tr>\n",
       "      <th>2</th>\n",
       "      <td>Eggs</td>\n",
       "      <td>2</td>\n",
       "      <td>large</td>\n",
       "    </tr>\n",
       "    <tr>\n",
       "      <th>3</th>\n",
       "      <td>Spam</td>\n",
       "      <td>1</td>\n",
       "      <td>can</td>\n",
       "    </tr>\n",
       "  </tbody>\n",
       "</table>\n",
       "</div>"
      ],
      "text/plain": [
       "  ingredients  Quantity   Unit\n",
       "0       Flour         4   cups\n",
       "1        Milk         1    cup\n",
       "2        Eggs         2  large\n",
       "3        Spam         1    can"
      ]
     },
     "execution_count": 101,
     "metadata": {},
     "output_type": "execute_result"
    }
   ],
   "source": [
    "import pandas as pd\n",
    "\n",
    "ingredients = pd.Series(['Flour', 'Milk', 'Eggs', 'Spam'], name ='ingredients')\n",
    "Quantity = pd.Series([4, 1, 2, 1], name = 'Quantity')\n",
    "Unit = pd.Series(['cups', 'cup', 'large', 'can'], name = 'Unit')\n",
    "\n",
    "df = pd.concat([ingredients, Quantity, Unit], axis = 1)\n",
    "\n",
    "df"
   ]
  },
  {
   "cell_type": "markdown",
   "metadata": {},
   "source": [
    "16. Take this data and create a DataFrame named studentData\n",
    "\n",
    "  {'Name': ['Jai', 'janusha', 'Gaurav', 'Anuj'],\n",
    "        'Height': [5.1, 6.2, 5.1, 5.2],\n",
    "        'Qualification': ['Msc', 'MA', 'Msc', 'Msc'],\n",
    "        'address': ['Delhi', 'Doha', 'Chennai', 'Dakhar'],\n",
    "        'Age': [21, 23, 24, 21],\n",
    "        'Pets': ['Dog', 'Bunny', 'Chinchilla', 'Parrot'],\n",
    "        'sport': ['Darts', 'Basketball', 'PaddleBoarding', 'Cricket']\n",
    "    }"
   ]
  },
  {
   "cell_type": "code",
   "execution_count": 107,
   "metadata": {},
   "outputs": [
    {
     "data": {
      "text/html": [
       "<div>\n",
       "<style scoped>\n",
       "    .dataframe tbody tr th:only-of-type {\n",
       "        vertical-align: middle;\n",
       "    }\n",
       "\n",
       "    .dataframe tbody tr th {\n",
       "        vertical-align: top;\n",
       "    }\n",
       "\n",
       "    .dataframe thead th {\n",
       "        text-align: right;\n",
       "    }\n",
       "</style>\n",
       "<table border=\"1\" class=\"dataframe\">\n",
       "  <thead>\n",
       "    <tr style=\"text-align: right;\">\n",
       "      <th></th>\n",
       "      <th>Name</th>\n",
       "      <th>Height</th>\n",
       "      <th>Qualification</th>\n",
       "      <th>address</th>\n",
       "      <th>Age</th>\n",
       "      <th>Pets</th>\n",
       "      <th>sport</th>\n",
       "    </tr>\n",
       "  </thead>\n",
       "  <tbody>\n",
       "    <tr>\n",
       "      <th>0</th>\n",
       "      <td>Jai</td>\n",
       "      <td>5.1</td>\n",
       "      <td>Msc</td>\n",
       "      <td>Delhi</td>\n",
       "      <td>21</td>\n",
       "      <td>Dog</td>\n",
       "      <td>Darts</td>\n",
       "    </tr>\n",
       "    <tr>\n",
       "      <th>1</th>\n",
       "      <td>janusha</td>\n",
       "      <td>6.2</td>\n",
       "      <td>MA</td>\n",
       "      <td>Doha</td>\n",
       "      <td>23</td>\n",
       "      <td>Bunny</td>\n",
       "      <td>Basketball</td>\n",
       "    </tr>\n",
       "    <tr>\n",
       "      <th>2</th>\n",
       "      <td>Gaurav</td>\n",
       "      <td>5.1</td>\n",
       "      <td>Msc</td>\n",
       "      <td>Chennai</td>\n",
       "      <td>24</td>\n",
       "      <td>Chinchilla</td>\n",
       "      <td>PaddleBoarding</td>\n",
       "    </tr>\n",
       "    <tr>\n",
       "      <th>3</th>\n",
       "      <td>Anuj</td>\n",
       "      <td>5.2</td>\n",
       "      <td>Msc</td>\n",
       "      <td>Dakhar</td>\n",
       "      <td>21</td>\n",
       "      <td>Parrot</td>\n",
       "      <td>Cricket</td>\n",
       "    </tr>\n",
       "  </tbody>\n",
       "</table>\n",
       "</div>"
      ],
      "text/plain": [
       "      Name  Height Qualification  address  Age        Pets           sport\n",
       "0      Jai     5.1           Msc    Delhi   21         Dog           Darts\n",
       "1  janusha     6.2            MA     Doha   23       Bunny      Basketball\n",
       "2   Gaurav     5.1           Msc  Chennai   24  Chinchilla  PaddleBoarding\n",
       "3     Anuj     5.2           Msc   Dakhar   21      Parrot         Cricket"
      ]
     },
     "execution_count": 107,
     "metadata": {},
     "output_type": "execute_result"
    }
   ],
   "source": [
    "df =pd.DataFrame(\n",
    "    {\n",
    "        'Name': ['Jai', 'janusha', 'Gaurav', 'Anuj'],\n",
    "        'Height': [5.1, 6.2, 5.1, 5.2],\n",
    "        'Qualification': ['Msc', 'MA', 'Msc', 'Msc'],\n",
    "        'address': ['Delhi', 'Doha', 'Chennai', 'Dakhar'],\n",
    "        'Age': [21, 23, 24, 21],\n",
    "        'Pets': ['Dog', 'Bunny', 'Chinchilla', 'Parrot'],\n",
    "        'sport': ['Darts', 'Basketball', 'PaddleBoarding', 'Cricket']\n",
    "    }\n",
    ")\n",
    "\n",
    "df"
   ]
  },
  {
   "cell_type": "markdown",
   "metadata": {},
   "source": [
    "17. Add a new column to the DataFrame with the following deserts: [\"ice cream\", \"Cashew Fudge\", \"waffels\", \"Carrot Halwa\"]"
   ]
  },
  {
   "cell_type": "code",
   "execution_count": 109,
   "metadata": {},
   "outputs": [
    {
     "data": {
      "text/html": [
       "<div>\n",
       "<style scoped>\n",
       "    .dataframe tbody tr th:only-of-type {\n",
       "        vertical-align: middle;\n",
       "    }\n",
       "\n",
       "    .dataframe tbody tr th {\n",
       "        vertical-align: top;\n",
       "    }\n",
       "\n",
       "    .dataframe thead th {\n",
       "        text-align: right;\n",
       "    }\n",
       "</style>\n",
       "<table border=\"1\" class=\"dataframe\">\n",
       "  <thead>\n",
       "    <tr style=\"text-align: right;\">\n",
       "      <th></th>\n",
       "      <th>Name</th>\n",
       "      <th>Height</th>\n",
       "      <th>Qualification</th>\n",
       "      <th>address</th>\n",
       "      <th>Age</th>\n",
       "      <th>Pets</th>\n",
       "      <th>sport</th>\n",
       "      <th>deserts</th>\n",
       "    </tr>\n",
       "  </thead>\n",
       "  <tbody>\n",
       "    <tr>\n",
       "      <th>0</th>\n",
       "      <td>Jai</td>\n",
       "      <td>5.1</td>\n",
       "      <td>Msc</td>\n",
       "      <td>Delhi</td>\n",
       "      <td>21</td>\n",
       "      <td>Dog</td>\n",
       "      <td>Darts</td>\n",
       "      <td>ice cream</td>\n",
       "    </tr>\n",
       "    <tr>\n",
       "      <th>1</th>\n",
       "      <td>janusha</td>\n",
       "      <td>6.2</td>\n",
       "      <td>MA</td>\n",
       "      <td>Doha</td>\n",
       "      <td>23</td>\n",
       "      <td>Bunny</td>\n",
       "      <td>Basketball</td>\n",
       "      <td>Cashew Fudge</td>\n",
       "    </tr>\n",
       "    <tr>\n",
       "      <th>2</th>\n",
       "      <td>Gaurav</td>\n",
       "      <td>5.1</td>\n",
       "      <td>Msc</td>\n",
       "      <td>Chennai</td>\n",
       "      <td>24</td>\n",
       "      <td>Chinchilla</td>\n",
       "      <td>PaddleBoarding</td>\n",
       "      <td>waffels</td>\n",
       "    </tr>\n",
       "    <tr>\n",
       "      <th>3</th>\n",
       "      <td>Anuj</td>\n",
       "      <td>5.2</td>\n",
       "      <td>Msc</td>\n",
       "      <td>Dakhar</td>\n",
       "      <td>21</td>\n",
       "      <td>Parrot</td>\n",
       "      <td>Cricket</td>\n",
       "      <td>Carrot Halwa</td>\n",
       "    </tr>\n",
       "  </tbody>\n",
       "</table>\n",
       "</div>"
      ],
      "text/plain": [
       "      Name  Height Qualification  address  Age        Pets           sport  \\\n",
       "0      Jai     5.1           Msc    Delhi   21         Dog           Darts   \n",
       "1  janusha     6.2            MA     Doha   23       Bunny      Basketball   \n",
       "2   Gaurav     5.1           Msc  Chennai   24  Chinchilla  PaddleBoarding   \n",
       "3     Anuj     5.2           Msc   Dakhar   21      Parrot         Cricket   \n",
       "\n",
       "        deserts  \n",
       "0     ice cream  \n",
       "1  Cashew Fudge  \n",
       "2       waffels  \n",
       "3  Carrot Halwa  "
      ]
     },
     "execution_count": 109,
     "metadata": {},
     "output_type": "execute_result"
    }
   ],
   "source": [
    "deserts = [\"ice cream\", \"Cashew Fudge\", \"waffels\", \"Carrot Halwa\"]\n",
    "df['deserts'] = deserts\n",
    "\n",
    "df"
   ]
  },
  {
   "cell_type": "markdown",
   "metadata": {},
   "source": [
    "18. Sort the 'studentData' DataFrame in Ascending order -- Sorting by column 'Name' and then \"address\""
   ]
  },
  {
   "cell_type": "code",
   "execution_count": 111,
   "metadata": {},
   "outputs": [
    {
     "data": {
      "text/html": [
       "<div>\n",
       "<style scoped>\n",
       "    .dataframe tbody tr th:only-of-type {\n",
       "        vertical-align: middle;\n",
       "    }\n",
       "\n",
       "    .dataframe tbody tr th {\n",
       "        vertical-align: top;\n",
       "    }\n",
       "\n",
       "    .dataframe thead th {\n",
       "        text-align: right;\n",
       "    }\n",
       "</style>\n",
       "<table border=\"1\" class=\"dataframe\">\n",
       "  <thead>\n",
       "    <tr style=\"text-align: right;\">\n",
       "      <th></th>\n",
       "      <th>Name</th>\n",
       "      <th>Height</th>\n",
       "      <th>Qualification</th>\n",
       "      <th>address</th>\n",
       "      <th>Age</th>\n",
       "      <th>Pets</th>\n",
       "      <th>sport</th>\n",
       "      <th>deserts</th>\n",
       "    </tr>\n",
       "  </thead>\n",
       "  <tbody>\n",
       "    <tr>\n",
       "      <th>3</th>\n",
       "      <td>Anuj</td>\n",
       "      <td>5.2</td>\n",
       "      <td>Msc</td>\n",
       "      <td>Dakhar</td>\n",
       "      <td>21</td>\n",
       "      <td>Parrot</td>\n",
       "      <td>Cricket</td>\n",
       "      <td>Carrot Halwa</td>\n",
       "    </tr>\n",
       "    <tr>\n",
       "      <th>2</th>\n",
       "      <td>Gaurav</td>\n",
       "      <td>5.1</td>\n",
       "      <td>Msc</td>\n",
       "      <td>Chennai</td>\n",
       "      <td>24</td>\n",
       "      <td>Chinchilla</td>\n",
       "      <td>PaddleBoarding</td>\n",
       "      <td>waffels</td>\n",
       "    </tr>\n",
       "    <tr>\n",
       "      <th>0</th>\n",
       "      <td>Jai</td>\n",
       "      <td>5.1</td>\n",
       "      <td>Msc</td>\n",
       "      <td>Delhi</td>\n",
       "      <td>21</td>\n",
       "      <td>Dog</td>\n",
       "      <td>Darts</td>\n",
       "      <td>ice cream</td>\n",
       "    </tr>\n",
       "    <tr>\n",
       "      <th>1</th>\n",
       "      <td>janusha</td>\n",
       "      <td>6.2</td>\n",
       "      <td>MA</td>\n",
       "      <td>Doha</td>\n",
       "      <td>23</td>\n",
       "      <td>Bunny</td>\n",
       "      <td>Basketball</td>\n",
       "      <td>Cashew Fudge</td>\n",
       "    </tr>\n",
       "  </tbody>\n",
       "</table>\n",
       "</div>"
      ],
      "text/plain": [
       "      Name  Height Qualification  address  Age        Pets           sport  \\\n",
       "3     Anuj     5.2           Msc   Dakhar   21      Parrot         Cricket   \n",
       "2   Gaurav     5.1           Msc  Chennai   24  Chinchilla  PaddleBoarding   \n",
       "0      Jai     5.1           Msc    Delhi   21         Dog           Darts   \n",
       "1  janusha     6.2            MA     Doha   23       Bunny      Basketball   \n",
       "\n",
       "        deserts  \n",
       "3  Carrot Halwa  \n",
       "2       waffels  \n",
       "0     ice cream  \n",
       "1  Cashew Fudge  "
      ]
     },
     "execution_count": 111,
     "metadata": {},
     "output_type": "execute_result"
    }
   ],
   "source": [
    "df.sort_values(by =['Name', 'address'], inplace = True)\n",
    "\n",
    "df"
   ]
  },
  {
   "cell_type": "markdown",
   "metadata": {},
   "source": [
    "19. Save this DataFrame here below to disc as a .CSV file with the name cows_and_goats.csv:\n",
    "\n",
    "    df = pd.DataFrame({'Cows': [12, 20], 'Goats': [22, 19]}, index=['Year 1', 'Year 2'])"
   ]
  },
  {
   "cell_type": "code",
   "execution_count": 112,
   "metadata": {},
   "outputs": [],
   "source": [
    "df = pd.DataFrame({'Cows': [12, 20], 'Goats': [22, 19]}, index=['Year 1', 'Year 2'])\n",
    "\n",
    "df.to_csv('cows_and_goats.csv')"
   ]
  },
  {
   "cell_type": "markdown",
   "metadata": {},
   "source": [
    "(A) Using Pandas, make your own .CSV file with data on vegetables and save it. (B) Using Pandas, make a change to your CSV file, and save a copy with a different name."
   ]
  },
  {
   "cell_type": "code",
   "execution_count": 119,
   "metadata": {},
   "outputs": [],
   "source": [
    "vegetables =pd.DataFrame(\n",
    "    {\n",
    "        'Green vegetables': ['lettuce', 'brocolli', 'spinach'],\n",
    "        'red vegetables': ['red bellpepper', 'chili peppers', 'tomatoes']\n",
    "    }\n",
    ")\n",
    "vegetables.to_csv('vegetables.csv')\n",
    "\n",
    "veggies = pd.read_csv('vegetables.csv')\n",
    "veggies['Fruits'] = ['apple','pear','bananas']\n",
    "veggies.to_csv('veggies.csv')\n",
    "\n"
   ]
  }
 ],
 "metadata": {
  "kernelspec": {
   "display_name": "python3",
   "language": "python",
   "name": "python3"
  },
  "language_info": {
   "codemirror_mode": {
    "name": "ipython",
    "version": 3
   },
   "file_extension": ".py",
   "mimetype": "text/x-python",
   "name": "python",
   "nbconvert_exporter": "python",
   "pygments_lexer": "ipython3",
   "version": "3.11.6"
  }
 },
 "nbformat": 4,
 "nbformat_minor": 2
}
