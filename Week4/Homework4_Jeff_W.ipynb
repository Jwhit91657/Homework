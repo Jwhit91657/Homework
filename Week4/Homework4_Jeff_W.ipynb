{
 "cells": [
  {
   "cell_type": "markdown",
   "metadata": {},
   "source": [
    "#Homework Week 4_Jeff W\n"
   ]
  },
  {
   "cell_type": "markdown",
   "metadata": {},
   "source": [
    "**<ins>Use markdown formatting for the following questions (e.g., bold lettering, bullet points, different font sizes, etc.)</ins>**:\n",
    "\n",
    "1. What does one need to do to use a module?\n",
    "1. Name a Module (not the DateTime Nodule) we looked at and write a line or 2 of code as an example using this module.\n",
    "1. What is a benefit of using Exception handling?\n",
    "1. what are the 4 components used for Python Exception Handling?\n",
    "1. NumPy arrays are like what Python data type?\n",
    "1. What is one of the main benefits of using NumPy arrays.\n",
    "1. What is one of the main requirements about the 'dtype' of NumPy arrays?\n",
    "1. Of the 10 uses of NumPy, name 2.\n",
    "1. Name one of the other libraries we'll use with NumPy?\n",
    "1. What is the shape of NumPy arrays?\n",
    "1. What is a Tensor?\n",
    "1. Name a reason why it's better using  NumPy for Data Analysis than using a Python List?\n",
    "1. When creating an \"empty\" array, where do the elements come from?"
   ]
  },
  {
   "cell_type": "code",
   "execution_count": null,
   "metadata": {},
   "outputs": [],
   "source": [
    "# #### Flow Control Methods:\n",
    "\n",
    "# 1. Create an if statement: if 'age' is greater than or equal to 25, print \"Renting a car is more affordable\", however if 'age' is less than 25, print \"Renting a car is very expensive.\"\n",
    "\n",
    "# 2. Create and chain an if-else  statement: if 'age' is greater than or equal to 25, print \"Renting a car is more affordable.\" If 'age' is less than 25 but greater than or equal to 18, print \"Renting a car is very expensive.\" Finally, if age is less than 18, print \"You cannot legally rent a car.\"\n",
    "\n",
    "# 3. Loop over the following string to (1) count all the characters in the string and (2) print out all the vowels -- \"The quick brown fox jumps over the lazy dog\"\n",
    "\n",
    "# 4. Write a nested loop that prints out every piece of clothing from the `couture` list, in every fashionable color from the `panettone` set: couture = [\"trousers\", \"blouse\", \"bandana\", \"cumber band\", \"blazer\", \"vest\", \"french beret\", \"scarf\", \"stole\"] and panettone = {\"cerise\", \"fuchsia\", \"aqua\", \"maple\", \"auburn\", \"burnt sienna\", \"gunmetal blue\", \"Dark Sapphire\"}\n",
    "\n",
    "# 5. Use range as a loop to calculate the sum of all the numbers from 1 to 100\n",
    "\n",
    "# 6. Print the second item in this fruits list.\n",
    "#     [\"apple\", \"banana\", \"cherry\"]\n",
    "\n",
    "# 7. Change the value from \"apple\" to \"kiwi\", in the fruits list.\n",
    "#     [\"apple\", \"banana\", \"cherry\"]\n",
    "\n",
    "# 8. Use the append method to add \"orange\" to the fruits list.\n",
    "#     [\"apple\", \"banana\", \"cherry\"]\n",
    "\n",
    "# 9. Use the insert method to add \"lemon\" as the second item in the fruits list.\n",
    "#     [\"apple\", \"banana\", \"cherry\"]\n",
    "\n",
    "# 10. Use the remove method to remove \"banana\" from the fruits list.\n",
    "#     [\"apple\", \"banana\", \"cherry\"]\n",
    "\n",
    "# 11. Use negative indexing to print the 3rd and 2nd to last items in the list.\n",
    "#     [\"apple\", \"banana\", \"cherry\", \"orange\", \"kiwi\", \"melon\", \"mango\"]\n",
    "\n",
    "# 12. Use a range of indexes to print the third, fourth, and fifth item in the list.\n",
    "#     [\"apple\", \"banana\", \"cherry\", \"orange\", \"kiwi\", \"melon\", \"mango\"]\n",
    "\n",
    "# 13. Use the correct syntax to print the number of items in the list.\n",
    "#     [\"apple\", \"banana\", \"cherry\", \"orange\", \"kiwi\", \"melon\", \"mango\"]\n",
    "\n",
    "# 14. Use the correct syntax to sort this list in reverse order\n",
    "#     [\"apple\", \"banana\", \"cherry\", \"orange\", \"kiwi\", \"melon\", \"mango\"]"
   ]
  }
 ],
 "metadata": {
  "language_info": {
   "name": "python"
  }
 },
 "nbformat": 4,
 "nbformat_minor": 2
}
