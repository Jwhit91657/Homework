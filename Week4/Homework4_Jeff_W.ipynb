{
 "cells": [
  {
   "cell_type": "markdown",
   "metadata": {},
   "source": [
    "#Homework Week 4_Jeff W\n"
   ]
  },
  {
   "cell_type": "markdown",
   "metadata": {},
   "source": [
    "**<ins>Use markdown formatting for the following questions (e.g., bold lettering, bullet points, different font sizes, etc.)</ins>**:\n",
    "\n",
    "1. What does one need to do to use a module?\n",
    " - Importing a module / library: import [module/library name]\n",
    "\n",
    "2. Name a Module (not the DateTime Nodule) we looked at and write a line or 2 of code as an example \n",
    "using this module.\n",
    " - Math module.  print(math.ceiling(1.4))\n",
    "   \n",
    "\n",
    "3. What is a benefit of using Exception handling?\n",
    " - Exception statements can be used to identify errors.\n",
    "\n",
    "4. what are the 4 components used for Python Exception Handling?\n",
    " - The 4 components are try, except, else, finally.\n",
    "\n",
    "5. NumPy arrays are like what Python data type?\n",
    " - lists\n",
    "\n",
    "6. What is one of the main benefits of using NumPy arrays.\n",
    " - Can manipulates multi-dimensional arrays. They also occupy less memory, they're faster, and more convenient.\n",
    "\n",
    "7. What is one of the main requirements about the 'dtype' of NumPy arrays?\n",
    " -  NumPy array elements are homogeneous -- of the same or a similar kind or nature.\n",
    "\n",
    "8. Of the 10 uses of NumPy, name 2.\n",
    " - multi dimensional arrays, mathematical operations\n",
    "\n",
    "9. Name one of the other libraries we'll use with NumPy?\n",
    " - Matplotlib\n",
    "\n",
    "10. What is the shape of NumPy arrays?\n",
    " - The shape is a tuple of non-negative integers that specify the dimensions, length and size of each array (3,2,4)\n",
    "\n",
    "11. What is a Tensor?\n",
    " - an array with 3+ dimensions.\n",
    "\n",
    "12. Name a reason why it's better using  NumPy for Data Analysis than using a Python List?\n",
    " - Faster, occupy less memory, and more convenient.\n",
    "\n",
    "13. When creating an \"empty\" array, where do the elements come from?\n",
    " - Empty will fill in values based on memory"
   ]
  },
  {
   "cell_type": "code",
   "execution_count": 2,
   "metadata": {},
   "outputs": [
    {
     "name": "stdout",
     "output_type": "stream",
     "text": [
      "Renting a car is more affordable\n"
     ]
    }
   ],
   "source": [
    "# #### Flow Control Methods:\n",
    "\n",
    "# 1. Create an if statement: if 'age' is greater than or equal to 25, print \"Renting a car is more affordable\", however if 'age' is less than 25, print \"Renting a car is very expensive.\"\n",
    "age = 30\n",
    "\n",
    "if age >= 25:\n",
    "    print(\"Renting a car is more affordable\")\n",
    "else:\n",
    "    print(\"Renting a car is very expensive.\")\n",
    "\n"
   ]
  },
  {
   "cell_type": "code",
   "execution_count": 5,
   "metadata": {},
   "outputs": [
    {
     "name": "stdout",
     "output_type": "stream",
     "text": [
      "You cannot legally rent a car.\n"
     ]
    }
   ],
   "source": [
    "# 2. Create and chain an if-else  statement: if 'age' is greater than or equal to 25, print \"Renting a car is more affordable.\" If 'age' is less than 25 but greater than or equal to 18, print \"Renting a car is very expensive.\" Finally, if age is less than 18, print \"You cannot legally rent a car.\"\n",
    "\n",
    "age = 17\n",
    "\n",
    "if age >= 25:\n",
    "    print(\"Renting a car is more affordable\")\n",
    "elif age < 25 and age > 18:\n",
    "    print(\"Renting a car is very expensive.\")\n",
    "else:\n",
    "    print(\"You cannot legally rent a car.\")\n",
    "    \n"
   ]
  },
  {
   "cell_type": "code",
   "execution_count": 16,
   "metadata": {},
   "outputs": [
    {
     "name": "stdout",
     "output_type": "stream",
     "text": [
      "43\n",
      "e\n",
      "u\n",
      "i\n",
      "o\n",
      "o\n",
      "u\n",
      "o\n",
      "e\n",
      "e\n",
      "a\n",
      "y\n",
      "o\n"
     ]
    }
   ],
   "source": [
    "# 3. Loop over the following string to (1) count all the characters in the string and (2) print out all the vowels -- \"The quick brown fox jumps over the lazy dog\"\n",
    "\n",
    "sentence  = \"The quick brown fox jumps over the lazy dog\"\n",
    "mycount = len(sentence)\n",
    "print(mycount)\n",
    "\n",
    "vowels = [\"a\", \"e\", \"i\", \"o\", \"u\", \"y\"]\n",
    " \n",
    "\n",
    "for letter in sentence:\n",
    "    if letter in vowels:\n",
    "        print(letter)\n",
    " \n",
    "    \n"
   ]
  },
  {
   "cell_type": "code",
   "execution_count": 17,
   "metadata": {},
   "outputs": [
    {
     "name": "stdout",
     "output_type": "stream",
     "text": [
      "trousers cerise\n",
      "trousers Dark Sapphire\n",
      "trousers burnt sienna\n",
      "trousers gunmetal blue\n",
      "trousers aqua\n",
      "trousers auburn\n",
      "trousers fuchsia\n",
      "trousers maple\n",
      "blouse cerise\n",
      "blouse Dark Sapphire\n",
      "blouse burnt sienna\n",
      "blouse gunmetal blue\n",
      "blouse aqua\n",
      "blouse auburn\n",
      "blouse fuchsia\n",
      "blouse maple\n",
      "bandana cerise\n",
      "bandana Dark Sapphire\n",
      "bandana burnt sienna\n",
      "bandana gunmetal blue\n",
      "bandana aqua\n",
      "bandana auburn\n",
      "bandana fuchsia\n",
      "bandana maple\n",
      "cumber band cerise\n",
      "cumber band Dark Sapphire\n",
      "cumber band burnt sienna\n",
      "cumber band gunmetal blue\n",
      "cumber band aqua\n",
      "cumber band auburn\n",
      "cumber band fuchsia\n",
      "cumber band maple\n",
      "blazer cerise\n",
      "blazer Dark Sapphire\n",
      "blazer burnt sienna\n",
      "blazer gunmetal blue\n",
      "blazer aqua\n",
      "blazer auburn\n",
      "blazer fuchsia\n",
      "blazer maple\n",
      "vest cerise\n",
      "vest Dark Sapphire\n",
      "vest burnt sienna\n",
      "vest gunmetal blue\n",
      "vest aqua\n",
      "vest auburn\n",
      "vest fuchsia\n",
      "vest maple\n",
      "french beret cerise\n",
      "french beret Dark Sapphire\n",
      "french beret burnt sienna\n",
      "french beret gunmetal blue\n",
      "french beret aqua\n",
      "french beret auburn\n",
      "french beret fuchsia\n",
      "french beret maple\n",
      "scarf cerise\n",
      "scarf Dark Sapphire\n",
      "scarf burnt sienna\n",
      "scarf gunmetal blue\n",
      "scarf aqua\n",
      "scarf auburn\n",
      "scarf fuchsia\n",
      "scarf maple\n",
      "stole cerise\n",
      "stole Dark Sapphire\n",
      "stole burnt sienna\n",
      "stole gunmetal blue\n",
      "stole aqua\n",
      "stole auburn\n",
      "stole fuchsia\n",
      "stole maple\n"
     ]
    }
   ],
   "source": [
    "# 4. Write a nested loop that prints out every piece of clothing from the `couture` list, in every fashionable color from the `panettone` set: couture = [\"trousers\", \"blouse\", \"bandana\", \"cumber band\", \"blazer\", \"vest\", \"french beret\", \"scarf\", \"stole\"] and panettone = {\"cerise\", \"fuchsia\", \"aqua\", \"maple\", \"auburn\", \"burnt sienna\", \"gunmetal blue\", \"Dark Sapphire\"}\n",
    "\n",
    "couture = [\"trousers\", \"blouse\", \"bandana\", \"cumber band\", \"blazer\", \"vest\", \"french beret\", \"scarf\", \"stole\"]\n",
    "panettone = {\"cerise\", \"fuchsia\", \"aqua\", \"maple\", \"auburn\", \"burnt sienna\", \"gunmetal blue\", \"Dark Sapphire\"}\n",
    "\n",
    "for x in couture:\n",
    "    for y in panettone:\n",
    "        print (x,y)\n"
   ]
  },
  {
   "cell_type": "code",
   "execution_count": 21,
   "metadata": {},
   "outputs": [
    {
     "name": "stdout",
     "output_type": "stream",
     "text": [
      "4950\n"
     ]
    }
   ],
   "source": [
    "# 5. Use range as a loop to calculate the sum of all the numbers from 1 to 100\n",
    "\n",
    "numbers = 0\n",
    "for allnumbers in range(1, 100):\n",
    "    numbers += allnumbers\n",
    "print(numbers)\n",
    "\n"
   ]
  },
  {
   "cell_type": "code",
   "execution_count": 26,
   "metadata": {},
   "outputs": [
    {
     "name": "stdout",
     "output_type": "stream",
     "text": [
      "banana\n"
     ]
    }
   ],
   "source": [
    "# 6. Print the second item in this fruits list.\n",
    "#     [\"apple\", \"banana\", \"cherry\"]\n",
    "fruitlist = [\"apple\", \"banana\", \"cherry\"]\n",
    "print(fruitlist[1])\n",
    "\n"
   ]
  },
  {
   "cell_type": "code",
   "execution_count": 28,
   "metadata": {},
   "outputs": [
    {
     "name": "stdout",
     "output_type": "stream",
     "text": [
      "['apple', 'banana', 'cherry']\n",
      "['kiwi', 'banana', 'cherry']\n"
     ]
    }
   ],
   "source": [
    "# 7. Change the value from \"apple\" to \"kiwi\", in the fruits list.\n",
    "#     [\"apple\", \"banana\", \"cherry\"]\n",
    "\n",
    "fruitlist = [\"apple\", \"banana\", \"cherry\"]\n",
    "print(fruitlist)\n",
    "\n",
    "fruitlist[0] =\"kiwi\"\n",
    "print(fruitlist)\n",
    "\n",
    "\n"
   ]
  },
  {
   "cell_type": "code",
   "execution_count": 29,
   "metadata": {},
   "outputs": [
    {
     "name": "stdout",
     "output_type": "stream",
     "text": [
      "['apple', 'banana', 'cherry']\n",
      "['apple', 'banana', 'cherry', 'orange']\n"
     ]
    }
   ],
   "source": [
    "# 8. Use the append method to add \"orange\" to the fruits list.\n",
    "#     [\"apple\", \"banana\", \"cherry\"]\n",
    "\n",
    "fruitlist = [\"apple\", \"banana\", \"cherry\"]\n",
    "print(fruitlist)\n",
    "\n",
    "fruitlist.append(\"orange\")\n",
    "print(fruitlist)\n",
    "\n"
   ]
  },
  {
   "cell_type": "code",
   "execution_count": 32,
   "metadata": {},
   "outputs": [
    {
     "name": "stdout",
     "output_type": "stream",
     "text": [
      "['apple', 'banana', 'cherry']\n",
      "['apple', 'lemon', 'banana', 'cherry']\n"
     ]
    }
   ],
   "source": [
    "# 9. Use the insert method to add \"lemon\" as the second item in the fruits list.\n",
    "#     [\"apple\", \"banana\", \"cherry\"]\n",
    "\n",
    "fruitlist = [\"apple\", \"banana\", \"cherry\"]\n",
    "print([\"apple\", \"banana\", \"cherry\"])\n",
    "\n",
    "fruitlist.insert(1, \"lemon\")\n",
    "print(fruitlist)\n",
    "\n"
   ]
  },
  {
   "cell_type": "code",
   "execution_count": 34,
   "metadata": {},
   "outputs": [
    {
     "name": "stdout",
     "output_type": "stream",
     "text": [
      "['apple', 'banana', 'cherry']\n",
      "['apple', 'cherry']\n"
     ]
    }
   ],
   "source": [
    "# 10. Use the remove method to remove \"banana\" from the fruits list.\n",
    "#     [\"apple\", \"banana\", \"cherry\"]\n",
    "\n",
    "fruitlist = [\"apple\", \"banana\", \"cherry\"]\n",
    "print(fruitlist)\n",
    "\n",
    "fruitlist.remove(\"banana\")\n",
    "print(fruitlist)"
   ]
  },
  {
   "cell_type": "code",
   "execution_count": 48,
   "metadata": {},
   "outputs": [
    {
     "name": "stdout",
     "output_type": "stream",
     "text": [
      "['apple', 'banana', 'cherry', 'orange', 'kiwi', 'melon', 'mango']\n",
      "['kiwi', 'melon']\n"
     ]
    }
   ],
   "source": [
    "# 11. Use negative indexing to print the 3rd and 2nd to last items in the list.\n",
    "#     [\"apple\", \"banana\", \"cherry\", \"orange\", \"kiwi\", \"melon\", \"mango\"]\n",
    "\n",
    "fruitlist = [\"apple\", \"banana\", \"cherry\", \"orange\", \"kiwi\", \"melon\", \"mango\"]\n",
    "print(fruitlist)\n",
    "\n",
    "\n",
    "print(fruitlist[-3:-1])\n"
   ]
  },
  {
   "cell_type": "code",
   "execution_count": 53,
   "metadata": {},
   "outputs": [
    {
     "name": "stdout",
     "output_type": "stream",
     "text": [
      "['cherry', 'orange', 'kiwi']\n"
     ]
    }
   ],
   "source": [
    "# 12. Use a range of indexes to print the third, fourth, and fifth item in the list.\n",
    "#     [\"apple\", \"banana\", \"cherry\", \"orange\", \"kiwi\", \"melon\", \"mango\"]\n",
    "\n",
    "fruitlist = [\"apple\", \"banana\", \"cherry\", \"orange\", \"kiwi\", \"melon\", \"mango\"]\n",
    "print(fruitlist [2:5])\n",
    "\n"
   ]
  },
  {
   "cell_type": "code",
   "execution_count": 59,
   "metadata": {},
   "outputs": [
    {
     "name": "stdout",
     "output_type": "stream",
     "text": [
      "7\n"
     ]
    }
   ],
   "source": [
    "# 13. Use the correct syntax to print the number of items in the list.\n",
    "#     [\"apple\", \"banana\", \"cherry\", \"orange\", \"kiwi\", \"melon\", \"mango\"]\n",
    "\n",
    "fruitlist = [\"apple\", \"banana\", \"cherry\", \"orange\", \"kiwi\", \"melon\", \"mango\"]\n",
    "print(len(fruitlist))\n"
   ]
  },
  {
   "cell_type": "code",
   "execution_count": 58,
   "metadata": {},
   "outputs": [
    {
     "name": "stdout",
     "output_type": "stream",
     "text": [
      "['apple', 'banana', 'cherry', 'orange', 'kiwi', 'melon', 'mango']\n",
      "['mango', 'melon', 'kiwi', 'orange', 'cherry', 'banana', 'apple']\n"
     ]
    }
   ],
   "source": [
    "# 14. Use the correct syntax to sort this list in reverse order\n",
    "#     [\"apple\", \"banana\", \"cherry\", \"orange\", \"kiwi\", \"melon\", \"mango\"]\n",
    "\n",
    "fruitlist = [\"apple\", \"banana\", \"cherry\", \"orange\", \"kiwi\", \"melon\", \"mango\"]\n",
    "print(fruitlist)\n",
    "\n",
    "fruitlist.reverse()\n",
    "print(fruitlist)"
   ]
  },
  {
   "cell_type": "code",
   "execution_count": 63,
   "metadata": {},
   "outputs": [
    {
     "name": "stdout",
     "output_type": "stream",
     "text": [
      "2023-10-28 11:31:43.689579\n",
      "October\n"
     ]
    }
   ],
   "source": [
    "# **<ins>Use a Python code file for this section</ins>**:\n",
    "\n",
    "# 15. Use the DateTime module to get Current Date and Time, and save it to a variable. Then extract just the Full month name form that variable.\n",
    "\n",
    "import datetime as dt\n",
    "currentdatetime = dt.datetime.now()\n",
    "print(currentdatetime)\n",
    "print(currentdatetime.strftime(\"%B\"))"
   ]
  },
  {
   "cell_type": "code",
   "execution_count": 72,
   "metadata": {},
   "outputs": [
    {
     "name": "stdout",
     "output_type": "stream",
     "text": [
      "Hi first: jeff! Happy: saturday!\n",
      "Hi first: brett! Happy: sunday!\n"
     ]
    }
   ],
   "source": [
    "# 16. Write a simple function that takes 2 parameters -- a  first name and a day name.\n",
    "#     - Set a default value for the day name of Sunday.\n",
    "#     - Have the function print out a greeting -- using the parameters -- that says something like \"Hi first-name! Happy day-name!\". Remember to use the variables in the greeting to replace first-name and day-name.  \n",
    "#     - Invoke this function with 2 variables.\n",
    "#     - Invoke this function with 1 variable only.\n",
    "\n",
    "def jeffcool(name, dayname = \"sunday\"):\n",
    "    message = f\"Hi first: {name}! Happy: {dayname}!\"\n",
    "    return message\n",
    "\n",
    "j = jeffcool(\"jeff\", \"saturday\")\n",
    "\n",
    "print(j)\n",
    "\n",
    "a = jeffcool(\"brett\")\n",
    "\n",
    "print(a)\n",
    "\n"
   ]
  },
  {
   "cell_type": "code",
   "execution_count": 77,
   "metadata": {},
   "outputs": [
    {
     "name": "stdout",
     "output_type": "stream",
     "text": [
      "Something went wrong\n",
      "The 'try except' is finished\n"
     ]
    }
   ],
   "source": [
    "# 17. Write a block of code to handle one of the most common Python exception errors. Select one of the common errors from the curriculum section on Python Exception handling. Have your code example uses the `try`,`except`, `else`, and `finally` components.\n",
    "\n",
    "try: \n",
    "    print(v)\n",
    "except:\n",
    "    print(\"Something went wrong\")\n",
    "else:\n",
    "    print(\"Nothing went wrong\")\n",
    "finally:\n",
    "    print(\"The 'try except' is finished\")"
   ]
  }
 ],
 "metadata": {
  "kernelspec": {
   "display_name": "python3",
   "language": "python",
   "name": "python3"
  },
  "language_info": {
   "codemirror_mode": {
    "name": "ipython",
    "version": 3
   },
   "file_extension": ".py",
   "mimetype": "text/x-python",
   "name": "python",
   "nbconvert_exporter": "python",
   "pygments_lexer": "ipython3",
   "version": "3.11.6"
  }
 },
 "nbformat": 4,
 "nbformat_minor": 2
}
